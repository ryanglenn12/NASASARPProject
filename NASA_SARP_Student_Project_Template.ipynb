{
 "cells": [
  {
   "cell_type": "markdown",
   "id": "ba7bbb68",
   "metadata": {},
   "source": [
    "\n",
    "# NASA SARP Student Project Notebook\n",
    "\n",
    "This notebook is your personal workspace for documenting your Earth science research project.  \n",
    "Feel free to add notes, write code, upload data, and track your progress throughout the program.\n"
   ]
  },
  {
   "cell_type": "markdown",
   "id": "9f6e6da9",
   "metadata": {},
   "source": [
    "\n",
    "## 1. Student Info\n",
    "\n",
    "- **Name**: Ryan Glenn\n",
    "- **Group / Mentor**: WAS / Don Blake\n",
    "- **Date**: July 7, 2025\n",
    "- **Region / Focus**: To be determined!\n"
   ]
  },
  {
   "cell_type": "markdown",
   "id": "e5269dda",
   "metadata": {},
   "source": [
    "\n",
    "## 2. Project Overview\n",
    "\n",
    "Write a short paragraph summarizing your project.  \n",
    "- What is the scientific question or topic you're exploring?\n",
    "- Why is this important for the environment or for public health?\n"
   ]
  },
  {
   "cell_type": "markdown",
   "id": "6b4f6686",
   "metadata": {},
   "source": [
    "\n",
    "## 3. Data Sources and Links\n",
    "\n",
    "List the datasets you'll be using. Include links or filenames, and explain what kind of data they contain.\n",
    "\n",
    "- Dataset name or URL:\n",
    "- Format (CSV, NetCDF, ICARTT, etc):\n",
    "- Variables of interest:\n"
   ]
  },
  {
   "cell_type": "markdown",
   "id": "55d117f7",
   "metadata": {},
   "source": [
    "\n",
    "## 4. Research Questions or Hypotheses\n",
    "\n",
    "What are you trying to find or test?\n",
    "\n",
    "- Question 1:\n",
    "- Question 2:\n"
   ]
  },
  {
   "cell_type": "markdown",
   "id": "f252088c",
   "metadata": {},
   "source": [
    "\n",
    "## 5. Code Sandbox — Load, Clean, Analyze\n",
    "\n",
    "Use this space to test code as you explore your data. You can add more cells as needed.\n"
   ]
  },
  {
   "cell_type": "code",
   "execution_count": null,
   "id": "4c6b0b73",
   "metadata": {},
   "outputs": [],
   "source": [
    "\n",
    "# Example: loading a CSV file with pandas\n",
    "import pandas as pd\n",
    "\n",
    "# df = pd.read_csv(\"your_file.csv\")\n",
    "# df.head()\n"
   ]
  },
  {
   "cell_type": "code",
   "execution_count": null,
   "id": "c4b24a10",
   "metadata": {},
   "outputs": [],
   "source": [
    "\n",
    "# Example: loading a NetCDF file with xarray\n",
    "import xarray as xr\n",
    "\n",
    "# ds = xr.open_dataset(\"your_file.nc\")\n",
    "# ds\n"
   ]
  },
  {
   "cell_type": "markdown",
   "id": "ed3c7a2c",
   "metadata": {},
   "source": [
    "\n",
    "## 6. Visualizations\n",
    "\n",
    "Add plots or maps here with explanations of what they show. You can use matplotlib, pandas, xarray, or plotly.\n",
    "\n",
    "```python\n",
    "# Example: df[\"PM2.5\"].plot()\n",
    "```\n"
   ]
  },
  {
   "cell_type": "markdown",
   "id": "92a4ba61",
   "metadata": {},
   "source": [
    "\n",
    "## 7. Reflections and Challenges\n",
    "\n",
    "Take notes on what you’ve learned or struggled with. Use this space to reflect.\n",
    "\n",
    "- What problems did you run into?\n",
    "- What was interesting or surprising?\n",
    "- What do you want to learn more about?\n"
   ]
  },
  {
   "cell_type": "markdown",
   "id": "e08e231c",
   "metadata": {},
   "source": [
    "\n",
    "## 8. Final Summary and Results\n",
    "\n",
    "Summarize your key findings.\n",
    "\n",
    "- What patterns did you discover?\n",
    "- What do the results suggest?\n",
    "- What are the limitations of your data?\n"
   ]
  }
 ],
 "metadata": {
  "kernelspec": {
   "display_name": "Python 3 (ipykernel)",
   "language": "python",
   "name": "python3"
  },
  "language_info": {
   "codemirror_mode": {
    "name": "ipython",
    "version": 3
   },
   "file_extension": ".py",
   "mimetype": "text/x-python",
   "name": "python",
   "nbconvert_exporter": "python",
   "pygments_lexer": "ipython3",
   "version": "3.11.11"
  }
 },
 "nbformat": 4,
 "nbformat_minor": 5
}
